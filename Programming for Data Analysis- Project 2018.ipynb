{
 "cells": [
  {
   "cell_type": "markdown",
   "metadata": {},
   "source": [
    "# America's unhealthy relationship with guns"
   ]
  },
  {
   "cell_type": "markdown",
   "metadata": {
    "collapsed": true
   },
   "source": [
    "## The real world phenomenon\n",
    "\n",
    "For this project I intend to research some of the socio-economic issues that affect gun violence in the United States. Having previously lived in Chicago- a city with one of the worst gun violence rates in the country, and having witnessed first-hand the scene of a gun related murder, this issue is something I have a keen interest in. I will look into some of the below issues for each state to determine if a correlation exists between any of the factors and the firearm violence in that state.\n",
    "\n",
    "1. Population of the state\n",
    "1. Percentage of the population living below the poverty level\n",
    "1. Income distribution inequality- using the Gini Cooeficient\n",
    "1. Percentage of the population who own firearms\n",
    "1. Percentage of the population educated to degree level\n",
    "1. Firearm fatalities per 100,000 residents in the state\n",
    "1. Number of police officers per 10,000 residents in the state\n",
    " \n",
    " \n",
    "Before we get interogate the data of the factors mentioned above that I beieve affect the high rates of gun violence I will look at some of the higher level issues relating to gun ownership in the United States. "
   ]
  },
  {
   "cell_type": "markdown",
   "metadata": {},
   "source": [
    "## The numbers behind the problem\n",
    "\n",
    "Currently there are 17% more guns than people in the US, a country that makes up 4% of the world’s population, but 46% of the worlds guns and this does not include the firearms owned by law enforcement or the military [1]. \n",
    "\n",
    "<img src=\"Graph1.png\" width=\"750\">\n",
    "\n",
    "A further investigation of the available data reveals even more disturbing statistics relating to America's unhealthy relationship with firearms- 78% of American adults do not own any guns, 19% own half of all guns, meaning less than ten million adults own over 196 million guns, or 20 guns per person [2].\n",
    "\n",
    "According to the Gun Violence Archive (GVA) there have been 51,632 incidents involving firearms, resulting in 13,247 deaths so far this year. This is an increase of 17% in deaths on 2017. There have been 608 deaths of children and 323 mass shootings, 266 police officers have been shoot or killed and the police have shot or killed 1,939 suspects, and surprisingly (as it is the reason most Americans give in support of their precious Second Amendment) 1,606 or only 3% of all gun related incidents reported this year where for self-defence [3]. \n",
    "\n",
    "According to Statista [7] there is also a deep divide at a political allegiance level when it comes to gun ownership. 41% of those affiliated with with the Republican party personally own a gun, compared to just 16% of their Democrat counterparts.\n"
   ]
  },
  {
   "cell_type": "markdown",
   "metadata": {
    "collapsed": true
   },
   "source": [
    "## The Second Amendment\n",
    "\n",
    "long before the invention of weapons such as the readily availble semi-automtic rifle or guns that can dispense one thousand rounds per minute, the Second Amendment of the United States Constitution was ratified in **December 1791**  and reads: \" A well-regulated Militia, being necessary to the security of a free state, the right of the people to keep and bear Arms, shall not be infringed\" [4]. This statement has become something of a badge and shield for gun activists. Shortly after the government passed a law requiring every man eligible for his local militia to acquire a gun and register with authorities. Following on from the civil war the second amendment rights were debated by Congress, which abolished militias in the former Confederate states and passed the 1866 Civil Rights Act, explicitly protecting freed slaves right to bear arms. 100 years later the Black Panthers took up guns to press for equal civil rights. In reaction to this conservative lawmaker promptly took up the cause of gun control [5]. Plagued by rising levels of violent crime, the District of Columbia enacted one of the country's toughest gun control laws in the case of *District of Columbia v. Heller*. The law effectively banned handguns, automatic firearms and high-capacity weapons [6], as a result DC now has one of the lowest rates of gun violence in the country.\n",
    "\n",
    "America without questions lags behind societal change as most other developed nations have set out to curb the ownership of firearms. In the UK after the Dunblane mass shooting, a public enquiry was held into the tradegy, which resulted in 28recommendations to tighten gun control legislation, many of them where around improving the licensing system. The .22 calibre was banned, and a gun amnesty was declared, and owners compensated for their weapons- over 162,000 handguns were surrendered.\n",
    "\n",
    "Following a mass shooting in which 35 people were killed in Australia, an amnesty resulted in 57,000 guns handed over to authorities. Lengthy background and identification check were introduced, and automatic and semi-automatic weapons banned [8].\n",
    " \n"
   ]
  },
  {
   "cell_type": "markdown",
   "metadata": {},
   "source": [
    "## The NRA"
   ]
  },
  {
   "cell_type": "markdown",
   "metadata": {
    "collapsed": true
   },
   "source": [
    "The National Rifle Association was founded in 1871 as a recreational group designed to 'promote and encourage rifle shooting on a scientific basis' [9]. The NRA has a budget of about 250 million each year and spends about 3 million of that budget lobbying lawmakers in 2014. \n",
    "\n",
    "The power of the NRA comes in part from their role as a major player in campaign finance. In the 2016 elections, the NRA spent over 54 million, according to data comlied by the Centre for Responsive Politics, this made them the ninth largest contributor during those elections [10]. This money was well spent, they contributed 14.4 million dollars to 44 candidates who won, and 34.4 million opposing 19 candidates who all lost [11].  But the main reason for its power are its 5 millions members, most of whom are passionate about guns and their Second Amendment rights, and take that advocay to the voting booth. The vast majority of Americans support gun control, but Congress has failed to impose tough restrictions on gun ownership. The ability of the NRA to mobilise its members is impressive, in particular to candidates who favor the Second Amendment. For instance, they operate a grading system, where an A grade is awarded to candidates who strongly support gun ownership, and lower grades for those who do not support this. The NRA then mails voter guides to its five million embers, displaying images of favoured candidates [12].\n",
    "\n"
   ]
  },
  {
   "cell_type": "markdown",
   "metadata": {
    "collapsed": true
   },
   "source": [
    "# A look at the variables"
   ]
  },
  {
   "cell_type": "markdown",
   "metadata": {},
   "source": [
    "## Poverty Levels"
   ]
  },
  {
   "cell_type": "markdown",
   "metadata": {},
   "source": []
  },
  {
   "cell_type": "markdown",
   "metadata": {},
   "source": [
    "## Income Inequality"
   ]
  },
  {
   "cell_type": "markdown",
   "metadata": {},
   "source": [
    "In the US as well as other well as other countries around the world, there is a strong correlation between both poverty and income inequality. A world Bank study found that inequality helped to predict the difference in murder rates between states, economic distress was a driving factor in suicides which makes up the majority of gun related deaths in America [13].  In their report, the World Bank, looked at the relationship between inequality and crime, and observed with a degree of consistency which it noted was unusual in social sciences that lower-class people, and people living in lower-class areas, have higher official crime rates than other groups. The theroy of \"relative deprivation\" states that inequality breeds social tensions as the less well-off feel dispossessed when compared with weathier people. The distrubition of security services across communitites (we will look further at this factor later) also plays a part, as in many states the distribution of police services favours rich neighbourhoods [14]. \n",
    "\n",
    "The Gini Cooeficient was used to arrive at the distriubtion for income inequality. This cooeficient is a good indication of economic distrubution. The coefficient ranges from 0 (0%) to 1 (100%), with 0 representing perfect equality and 1 representing perfect inequality. To put that into context for our analysis, a coefficient of 0 would indicate that every person in the states earns the same income, and a coefficient of 1 would mean that one person earns all of the money and everybody else earns nothing.\n",
    "\n",
    "In the actual data for this factor, the mean returns a Gini Coefficient of 0.42, with the states with the highest index was 0.53 and the lowest 0.42, the standard deviation for this was a really low 0.02."
   ]
  },
  {
   "cell_type": "code",
   "execution_count": null,
   "metadata": {
    "collapsed": true
   },
   "outputs": [],
   "source": []
  }
 ],
 "metadata": {
  "kernelspec": {
   "display_name": "Python 3",
   "language": "python",
   "name": "python3"
  },
  "language_info": {
   "codemirror_mode": {
    "name": "ipython",
    "version": 3
   },
   "file_extension": ".py",
   "mimetype": "text/x-python",
   "name": "python",
   "nbconvert_exporter": "python",
   "pygments_lexer": "ipython3",
   "version": "3.6.3"
  }
 },
 "nbformat": 4,
 "nbformat_minor": 2
}
