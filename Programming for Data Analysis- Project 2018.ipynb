{
 "cells": [
  {
   "cell_type": "markdown",
   "metadata": {},
   "source": [
    "# The real world phenomenon\n",
    "# America's relationship with guns"
   ]
  },
  {
   "cell_type": "markdown",
   "metadata": {
    "collapsed": true
   },
   "source": [
    "\n",
    "For this project I intend to research some of the socio-economic issues that affect gun violence in the United States. Having previously lived in Chicago- a city with one of the worst gun violence rates in the country, and having witnessed first-hand the scene of a gun related murder, this issue is something I have a keen interest in. I will look into some of the below issues for each state to determine if a correlation exists between any of the factors and the firearm violence in that state.\n",
    "\n",
    "1. Population of the state\n",
    "1. Percentage of the population living below the poverty level\n",
    "1. Income distribution inequality- using the Gini Cooeficient\n",
    "1. Percentage of the population who own firearms\n",
    "1. Percentage of the population educated to degree level\n",
    "1. Firearm fatalities per 100,000 residents in the state\n",
    "1. Number of police officers per 10,000 residents in the state\n",
    " \n",
    " \n",
    "Before we get interogate the data of the factors mentioned above that I beieve affect the high rates of gun violence I will look at some of the higher level issues relating to gun ownership in the United States. "
   ]
  },
  {
   "cell_type": "markdown",
   "metadata": {},
   "source": [
    "## The numbers behind the problem\n",
    "\n",
    "Currently there are 17% more guns than people in the US, a country that makes up 4% of the world’s population, but 46% of the worlds guns and this does not include the firearms owned by law enforcement or the military [1]. \n",
    "\n",
    "<img src=\"Graph1.png\" width=\"750\">\n",
    "\n",
    "A further investigation of the available data reveals even more disturbing statistics relating to America's unhealthy relationship with firearms- 78% of American adults do not own any guns, 19% own half of all guns, meaning less than ten million adults own over 196 million guns, or 20 guns per person [2].\n",
    "\n",
    "According to the Gun Violence Archive (GVA) there have been 51,632 incidents involving firearms, resulting in 13,247 deaths so far this year. This is an increase of 17% in deaths on 2017. There have been 608 deaths of children and 323 mass shootings, 266 police officers have been shoot or killed and the police have shot or killed 1,939 suspects, and surprisingly (as it is the reason most Americans give in support of their precious Second Amendment) 1,606 or only 3% of all gun related incidents reported this year where for self-defence [3]. \n",
    "\n",
    "According to Statista [7] there is also a deep divide at a political allegiance level when it comes to gun ownership. 41% of those affiliated with with the Republican party personally own a gun, compared to just 16% of their Democrat counterparts.\n"
   ]
  },
  {
   "cell_type": "markdown",
   "metadata": {
    "collapsed": true
   },
   "source": [
    "## The Second Amendment\n",
    "\n",
    "long before the invention of weapons such as the readily availble semi-automtic rifle or guns that can dispense one thousand rounds per minute, the Second Amendment of the United States Constitution was ratified in **December 1791**  and reads: \" A well-regulated Militia, being necessary to the security of a free state, the right of the people to keep and bear Arms, shall not be infringed\" [4]. This statement has become something of a badge and shield for gun activists. Shortly after the government passed a law requiring every man eligible for his local militia to acquire a gun and register with authorities. Following on from the civil war the second amendment rights were debated by Congress, which abolished militias in the former Confederate states and passed the 1866 Civil Rights Act, explicitly protecting freed slaves right to bear arms. 100 years later the Black Panthers took up guns to press for equal civil rights. In reaction to this conservative lawmaker promptly took up the cause of gun control [5]. Plagued by rising levels of violent crime, the District of Columbia enacted one of the country's toughest gun control laws in the case of *District of Columbia v. Heller*. The law effectively banned handguns, automatic firearms and high-capacity weapons [6], as a result DC now has one of the lowest rates of gun violence in the country.\n",
    "\n",
    "America without questions lags behind societal change as most other developed nations have set out to curb the ownership of firearms. In the UK after the Dunblane mass shooting, a public enquiry was held into the tradegy, which resulted in 28recommendations to tighten gun control legislation, many of them where around improving the licensing system. The .22 calibre was banned, and a gun amnesty was declared, and owners compensated for their weapons- over 162,000 handguns were surrendered.\n",
    "\n",
    "Following a mass shooting in which 35 people were killed in Australia, an amnesty resulted in 57,000 guns handed over to authorities. Lengthy background and identification check were introduced, and automatic and semi-automatic weapons banned [8].\n",
    " \n"
   ]
  },
  {
   "cell_type": "markdown",
   "metadata": {},
   "source": [
    "## The NRA"
   ]
  },
  {
   "cell_type": "markdown",
   "metadata": {
    "collapsed": true
   },
   "source": [
    "The National Rifle Association was founded in 1871 as a recreational group designed to 'promote and encourage rifle shooting on a scientific basis' [9]. The NRA has a budget of about 250 million each year and spends about 3 million of that budget lobbying lawmakers in 2014. \n",
    "\n",
    "The power of the NRA comes in part from their role as a major player in campaign finance. In the 2016 elections, the NRA spent over 54 million, according to data comlied by the Centre for Responsive Politics, this made them the ninth largest contributor during those elections [10]. This money was well spent, they contributed 14.4 million dollars to 44 candidates who won, and 34.4 million opposing 19 candidates who all lost [11].  But the main reason for its power are its 5 millions members, most of whom are passionate about guns and their Second Amendment rights, and take that advocay to the voting booth. The vast majority of Americans support gun control, but Congress has failed to impose tough restrictions on gun ownership. The ability of the NRA to mobilise its members is impressive, in particular to candidates who favor the Second Amendment. For instance, they operate a grading system, where an A grade is awarded to candidates who strongly support gun ownership, and lower grades for those who do not support this. The NRA then mails voter guides to its five million embers, displaying images of favoured candidates [12].\n",
    "\n"
   ]
  },
  {
   "cell_type": "markdown",
   "metadata": {
    "collapsed": true
   },
   "source": [
    "# A look at the variables"
   ]
  },
  {
   "cell_type": "markdown",
   "metadata": {},
   "source": [
    "## Poverty Levels"
   ]
  },
  {
   "cell_type": "markdown",
   "metadata": {},
   "source": [
    "Aristotle wrote \"Poverty is the parent of crime\", but is there evidence to support this statement? The poverty line can be described as the level of personal or family income below which that household is classified as poor according to the states standards, if households fall below this level, they will be entitled to certain federal benefits such as food, clothes, shelter amongst other.\n",
    "In terms of race and ethnicity, 77% of white gun deaths in America are suicides, while less than 19% are homicides, and the figures are practically the opposite for African Americans, for which only 14% are suicides [15]. In his paper, Robert Nash, suggests a theroy of absolute deprovation, which in and of itself can lead to violence. Perhaps violence is one of the only options available to those without the economic means to deal with problems and crises of everyday life, to put it simply, absolute deprivation approach suggests that violence can occur because life is hard. In Washington DC, it is reported that every 10 fewer incidents of gunfire in a census tract are signigicantly related to [17]:\n",
    "\n",
    "* One new business opening\n",
    "* The creation of 20 more jobs in new businesses\n",
    "* $1.3 million more in sales at new businesses\n",
    "* One less business closing\n",
    "\n",
    "The data for this factor indicates a large distribution of poverty levels at a state level. The state with the lowest percentage of its residents living below the poverty level is 9.2 with the state with the most residents below this level is almost 22 with the average perentage working out at just under 15 percent and a standard deviation of 3.1. Our data agrees that if you live in a state that has high poverty rates you are more at risk of being involved in a homicide by firearm. The state with the highest level of poverty is well above the average deaths of 19.9 per 100,000 residents, the average being 13.2. In fact the top 14 states who report the highest level of poverty are above the average of deaths per 100,000. There are 2 outliers to this distribution, one state in particular has the highest rate of deaths per 100,000 but its poverty levels are 25 percent below the national average."
   ]
  },
  {
   "cell_type": "markdown",
   "metadata": {},
   "source": [
    "## Income Inequality"
   ]
  },
  {
   "cell_type": "markdown",
   "metadata": {},
   "source": [
    "In the US as well as other well as other countries around the world, there is a strong correlation between both poverty and income inequality. A world Bank study found that inequality helped to predict the difference in murder rates between states, economic distress was a driving factor in suicides which makes up the majority of gun related deaths in America [13].  In their report, the World Bank, looked at the relationship between inequality and crime, and observed with a degree of consistency which it noted was unusual in social sciences that lower-class people, and people living in lower-class areas, have higher official crime rates than other groups. The theroy of \"relative deprivation\" states that inequality breeds social tensions as the less well-off feel dispossessed when compared with weathier people. The distrubition of security services across communitites (we will look further at this factor later) also plays a part, as in many states the distribution of police services favours rich neighbourhoods [14]. \n",
    "\n",
    "The Gini Cooeficient was used to arrive at the distriubtion for income inequality. This cooeficient is a good indication of economic distrubution. The coefficient ranges from 0 (0%) to 1 (100%), with 0 representing perfect equality and 1 representing perfect inequality. To put that into context for our analysis, a coefficient of 0 would indicate that every person in the states earns the same income, and a coefficient of 1 would mean that one person earns all of the money and everybody else earns nothing.\n",
    "\n",
    "In the actual data for this factor, the mean returns a Gini Coefficient of 0.42, with the states with the highest index was 0.53 and the lowest 0.42, the standard deviation for this was a really low 0.02."
   ]
  },
  {
   "cell_type": "markdown",
   "metadata": {
    "collapsed": true
   },
   "source": [
    "## Gun Ownership Rates"
   ]
  },
  {
   "cell_type": "markdown",
   "metadata": {},
   "source": [
    "The next factor I used was to look at was percentage of residents who owned firearms by state. It is east to assume that if you lived in state where a lot of the population owned a gun are you more likely to be a victim of a gun related crime than if you lived in a state where the number of residents possessing a firearm was small, but is that the case? Statistics from the FBI indicate that a large percentage of crime in America involve handguns. In 2008 67 percent of all homicides involved a firearm. According to Krug, Powell and Dahlberg (1998) it was noted that the United States had a much higher rate of firearms being used during a homicide compared to other countries [18]. A study carried out by the US National Library of Medicine National Institutes of Health, who investigated the link between gun ownership and gun violence revealed that individuals who were in possession of a gun were 17.04 times more likely to be shot in an assault that those not in possession of a firearm, and 15 times more likely to be fatally shot [19]. The report also finds no evidence to support the perception that possessing a gun protects those who have the firearm from being shot in an assault, although successful defensive gun uses do occur, the findings of the study do not support the view that such cases are likely.\n",
    "\n",
    "The evidence of the data reveals that if you live in a state with high high gun ownership, there is an increased chance that you will be involved in a fatal firearm incident. The two states with the highest gun ownership, also report the highest gun deaths per 100,000 residents. This factor also has the largest spread of values, with the smallest percentage a low 5.2, compared to the highest state standing at a whopping 61.7 percent of households possessing a firearm, the average is almost 33 percent with a standard deviation of 13.44."
   ]
  },
  {
   "cell_type": "markdown",
   "metadata": {},
   "source": [
    "## Education"
   ]
  },
  {
   "cell_type": "markdown",
   "metadata": {},
   "source": [
    "The next issue under consideration is the level of education in the state. I looked at the percentage of residents holding a bachelors degree to see of there was any link between low levels of education and high firearm deaths. Buzzfeed report that college education correlate strongly with gun violence levels. Even in cities with strong gun laws, the correlation holds, in Chicago for example the average reate of gun deaths in its five poorest neighbourhoods was over12 times the rate of its least poverty-stricken areas. It is not surprise to learn that in Washington that firearm murders hardly ever happen it its wealthy neighbourhoods [20]. The graph below highlights the impact that having a more educated population can have on decreasing the number of gun related deaths can have.\n",
    "\n",
    "<img src=\"Graph2.png\" width=\"750\">"
   ]
  },
  {
   "cell_type": "markdown",
   "metadata": {},
   "source": [
    "http://www.votersopinion.com/wp-content/uploads/2015/04/Poisson-Based-Regression-Analysis-of-Aggregate-Crime-Rates.pdf\n",
    "\n",
    "\n",
    "THE POISSON REGRESSION MODEL\n",
    "The Poisson distribution has been useful for many problems in criminology\n",
    "and criminal justice. Indeed, Poisson originally derived the distribution\n",
    "for analyzing rates of conviction in France during the 1820s (see\n",
    "Maltz, 1994). Maltz (1994) reviews many uses of the Poisson distribution\n",
    "for modeling phenomena related to crime, such as assessing the potential\n",
    "for selective incapacitation, projecting prison populations, and estimating\n",
    "the size of the criminal population. The present paper focuses specifically\n",
    "on Poisson-based regression models, which relate explanatory variables to\n",
    "dependent variables that are counts of events. These models can solve the\n",
    "problems described above because they allow us to recognize the dependence\n",
    "of crime rates on counts of crimes. Several good, nontechnical descriptions\n",
    "of Poisson regression are now available (e.g., Gardner et al., 1995;\n",
    "Liao, 1994; Land et al., 1996), so my description of these models is brief,\n",
    "emphasizing the features most relevant to aggregate analysis.\n",
    "The Poisson distribution characterizes the probability of observing any\n",
    "discrete number of events (i.e., 0, 1, 2, . . .), given an underlying mean count\n",
    "or rate of events, assuming that the timing of the events is random and\n",
    "independent. For instance, the Poisson distribution for a mean count of 4.5\n",
    "would describe the proportion of times that we should expect to observe\n",
    "any specific count of robberies (0, 1, 2, . . .) in a neighborhood, if the ‘‘true’’\n",
    "(and unchanging) annual rate for neighborhood were 4.5, if the occurrence\n",
    "of one robbery had no impact on the likelihood of the next, and if we\n",
    "had an unlimited number of years to observe. Figure 1 shows the Poisson\n",
    "distribution for four mean counts of arrests. When the mean arrest count is\n",
    "low, as is likely for a small population, the Poisson distribution is skewed,\n",
    "24 Osgood\n",
    "with only a small range of counts having a meaningful probability of occurrence.\n",
    "As the mean count grows, the Poisson distribution increasingly\n",
    "approximates the normal. The Poisson distribution has a variance equal to\n",
    "the mean count. Therefore, as the mean count increases, the probability of\n",
    "observing any specific number of events declines and a broader range of\n",
    "values have meaningful probabilities of being observed.\n",
    "Our interest is in per capita crime rates rather than in counts of offenses,\n",
    "and Fig. 2 demonstrates the correspondence between rates and counts.\n",
    "Figure 2 translates the Poisson distributions of crime counts in Fig. 1 to\n",
    "distributions of crime rates. Given a constant underlying mean rate of 500\n",
    "crimes per 100,000 population, population sizes of 200, 600, 2000, and\n",
    "10,000 would produce the mean crime counts of 1, 3, 10, and 50 used in\n",
    "Fig. 1. For the population of 200, only a very limited number of crime rates\n",
    "are probable (i.e., increments of 500 per 100,000), but those probable rates\n",
    "comprise an enormous range. As the population base increases, the range\n",
    "of likely crime rates decreases, even though the range of likely crime counts\n",
    "increases. The standard deviation around the mean rate shrinks from 500\n",
    "crimes per 100,000 for a population of 200 to 71 crimes per 100,000 for a\n",
    "population of 10,000. Thus, Fig. 2 illustrates the effect of population size\n",
    "on the accuracy of estimated crime rates.\n",
    "The basic Poisson regression model is"
   ]
  },
  {
   "cell_type": "code",
   "execution_count": null,
   "metadata": {
    "collapsed": true
   },
   "outputs": [],
   "source": []
  }
 ],
 "metadata": {
  "kernelspec": {
   "display_name": "Python 3",
   "language": "python",
   "name": "python3"
  },
  "language_info": {
   "codemirror_mode": {
    "name": "ipython",
    "version": 3
   },
   "file_extension": ".py",
   "mimetype": "text/x-python",
   "name": "python",
   "nbconvert_exporter": "python",
   "pygments_lexer": "ipython3",
   "version": "3.6.6"
  }
 },
 "nbformat": 4,
 "nbformat_minor": 2
}
