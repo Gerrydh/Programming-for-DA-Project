{
 "cells": [
  {
   "cell_type": "markdown",
   "metadata": {},
   "source": [
    "# America's unhealthy relationship with guns"
   ]
  },
  {
   "cell_type": "markdown",
   "metadata": {
    "collapsed": true
   },
   "source": [
    "For this project I intend to research some of the socio-economic issues that affect gun violence in the United States. Having previously lived in Chicago- a city with one of the worst gun violence rates in the country, and having witnessed firsthand the scene of a gun related murder, this issue is something I have a keen interest in. I will look at some of these social and economic statistics with the aim of identifying if there is a correlation between these factors and gun related homicides.\n",
    "\n",
    "Currently there are 17% more guns than people in the US, a country that makes up 4% of the world’s population, but 46% of the worlds guns and this does not include the firearms owned by law enforcement or the military [1]. \n",
    "\n",
    "![](Graph1.png)\n",
    "\n",
    "A further investigation of these numbers, reveals even more disturbing statistics relating to America's unhealthy relationship with firearms- 78% of American adults do not own any guns, 19% own half of all guns, meaning less than ten million adults own over 196 million guns, or 20 guns per person [2].\n",
    "\n",
    "According to the Gun Violence Archive (GVA) there have been 51,632 incidents involving firearms, resulting in 13,247 deaths so far this year. This is an increase of 17% in deaths on 2017. There have been 608 deaths of children and 323 mass shootings, 266 police officers have been shoot or killed and the police have shot or killed 1,939 suspects, and surprisingly (as it is the reason most Americans give in support of their precious Second Amendment) 1,606 or only 3% of all gun related incidents reported this year where for self defence [3]. \n"
   ]
  },
  {
   "cell_type": "markdown",
   "metadata": {
    "collapsed": true
   },
   "source": [
    "## The Second Amendment\n",
    "\n",
    "The Second Amendment of the United States Constitution was ratified in **December 1791** and reads: \" A well regulated Militia, being necessary to the security of a free state, teh right of the people to keep and bear Arms, shall not be infringed\" [4]. This statement has become something of a badge and shield for gun activists. Shortly after the government passed a law requiring every man eligible for his local militia to acquire a gun and register with authorities. Following on from the civil war the second amedment rights were debated by Congress, which abolished militias in the former Confederate states and passed the 1866 Civil Rights Act, explicity protecting freed salves right to bear arms. 100 years later the Black Panthers took up guns to press for equal civil rights. In reaction to this conservative lawmakers promptly took up the cause of gun control [5]. Plagued by rising levels of violent crime, the District of Columbia enacted one of the country's toughest gun control laws in the case of *District of Columbia v. Heller*. The law effectively banned handguns, automatic firearms and high-capacity weapons [6], as a result DC now has one of the lowest rates of gun violence in the country."
   ]
  },
  {
   "cell_type": "markdown",
   "metadata": {},
   "source": [
    "## The NRA"
   ]
  },
  {
   "cell_type": "code",
   "execution_count": null,
   "metadata": {
    "collapsed": true
   },
   "outputs": [],
   "source": []
  }
 ],
 "metadata": {
  "kernelspec": {
   "display_name": "Python 3",
   "language": "python",
   "name": "python3"
  },
  "language_info": {
   "codemirror_mode": {
    "name": "ipython",
    "version": 3
   },
   "file_extension": ".py",
   "mimetype": "text/x-python",
   "name": "python",
   "nbconvert_exporter": "python",
   "pygments_lexer": "ipython3",
   "version": "3.6.3"
  }
 },
 "nbformat": 4,
 "nbformat_minor": 2
}
